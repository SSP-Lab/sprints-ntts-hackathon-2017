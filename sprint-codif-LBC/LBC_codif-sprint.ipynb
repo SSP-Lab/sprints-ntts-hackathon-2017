{
 "cells": [
  {
   "cell_type": "markdown",
   "metadata": {},
   "source": [
    "# Codification des offres du Bon Coin\n",
    "\n",
    "Attention ce code est compatible python 2.7\n",
    "\n",
    "Les offres du bon coin contiennent un champ \"offre\" qui est un intitulé de métier détaillé (plus détaillé qu'une fonction qui est une variable comprenant un nombre fini de modalités).\n",
    "\n",
    "On cherche à coder les offres en FAP (famille professionnelle), sous leur format agrégé (21 classes identifiées par des lettres). \n",
    "\n",
    "La codification ROME, qui est une autre façon de coder les métiers, peut être associée à la codification en FAP de sorte que l'on dispose d'une liste de métiers (environ 15000) et des codes FAP correspondants.\n",
    "\n",
    "La difficulté provient de ce que les intitulés des offres du Bon Coin ne sont pas formulés exactement comme les intitulés métiers ROME, on va donc étalonner un algorithme sur les intitulés ROME pour l'appliquer ensuite sur les intitulés du bon coin. Notons f cet algorithme, x un intitulé métier et y un code FAP, f est caractérisé par un certain nombre de paramètres qui sont optimisés de sorte que f(x) = y sur les métiers de la codification ROME (évidemment il peut toujours y avoir des erreurs pour certains x). Une fois f déterminé, on applique f à x', intitulé métier du bon coin pour déterminé y'=f(x'), le code FAP inconnu à la base car non disponible dans les métadonnées des offres postées sur le bon coin.\n",
    "\n",
    "La problématique de \"codification automatique\" est donc ici un exercice de prédiction. La solution proposée ici est \"supervisée\" puisqu'on utilise une ressource externe (les codes FAP des intitulés métiers de la codification ROME sont utilisés pour l'étalonnage/apprentissage), mais on pourrait également procéder de façon non supervisée, en comparant les intitulés du bon coin directement avec les intitulés ROME (à l'aide d'une métrique adaptée à la comparaison de chaines de caractères) sans qu'il y ait besoin d'un apprentissage/étalonnage au préalable."
   ]
  },
  {
   "cell_type": "markdown",
   "metadata": {},
   "source": [
    "### Import des données "
   ]
  },
  {
   "cell_type": "code",
   "execution_count": 28,
   "metadata": {
    "collapsed": false
   },
   "outputs": [
    {
     "data": {
      "text/html": [
       "<div>\n",
       "<table border=\"1\" class=\"dataframe\">\n",
       "  <thead>\n",
       "    <tr style=\"text-align: right;\">\n",
       "      <th></th>\n",
       "      <th>libelle_rome</th>\n",
       "      <th>code_rome</th>\n",
       "      <th>fap2009_SansQualif_agreg</th>\n",
       "      <th>fap2009_AvecQualif_agreg</th>\n",
       "    </tr>\n",
       "  </thead>\n",
       "  <tbody>\n",
       "    <tr>\n",
       "      <th>0</th>\n",
       "      <td>Opérateur / Opératrice d'épandage</td>\n",
       "      <td>A1101</td>\n",
       "      <td>A</td>\n",
       "      <td>Z</td>\n",
       "    </tr>\n",
       "    <tr>\n",
       "      <th>1</th>\n",
       "      <td>Débardeur / Débardeuse</td>\n",
       "      <td>A1101</td>\n",
       "      <td>A</td>\n",
       "      <td>Z</td>\n",
       "    </tr>\n",
       "    <tr>\n",
       "      <th>2</th>\n",
       "      <td>Conducteur / Conductrice de machines à vendanger</td>\n",
       "      <td>A1101</td>\n",
       "      <td>A</td>\n",
       "      <td>Z</td>\n",
       "    </tr>\n",
       "    <tr>\n",
       "      <th>3</th>\n",
       "      <td>Conducteur / Conductrice d'abatteuses</td>\n",
       "      <td>A1101</td>\n",
       "      <td>A</td>\n",
       "      <td>Z</td>\n",
       "    </tr>\n",
       "    <tr>\n",
       "      <th>4</th>\n",
       "      <td>Pilote de machines d'abattage</td>\n",
       "      <td>A1101</td>\n",
       "      <td>A</td>\n",
       "      <td>Z</td>\n",
       "    </tr>\n",
       "  </tbody>\n",
       "</table>\n",
       "</div>"
      ],
      "text/plain": [
       "                                       libelle_rome code_rome  \\\n",
       "0                 Opérateur / Opératrice d'épandage     A1101   \n",
       "1                            Débardeur / Débardeuse     A1101   \n",
       "2  Conducteur / Conductrice de machines à vendanger     A1101   \n",
       "3             Conducteur / Conductrice d'abatteuses     A1101   \n",
       "4                     Pilote de machines d'abattage     A1101   \n",
       "\n",
       "  fap2009_SansQualif_agreg fap2009_AvecQualif_agreg  \n",
       "0                        A                        Z  \n",
       "1                        A                        Z  \n",
       "2                        A                        Z  \n",
       "3                        A                        Z  \n",
       "4                        A                        Z  "
      ]
     },
     "execution_count": 28,
     "metadata": {},
     "output_type": "execute_result"
    }
   ],
   "source": [
    "import pandas as pd\n",
    "df=pd.read_csv(r'rome_fap_ameliore.csv',encoding='Latin-1', index_col=0)\n",
    "# les familles de métiers ne possèdent pas de code FAP, on les retire (on conserve les lignes où les codes FAP sont renseignés)\n",
    "df = df.loc[df['fap2009_SansQualif_agreg']==df['fap2009_SansQualif_agreg']].reset_index(drop=True)\n",
    "df.head()"
   ]
  },
  {
   "cell_type": "code",
   "execution_count": 29,
   "metadata": {
    "collapsed": false
   },
   "outputs": [
    {
     "data": {
      "text/html": [
       "<div>\n",
       "<table border=\"1\" class=\"dataframe\">\n",
       "  <thead>\n",
       "    <tr style=\"text-align: right;\">\n",
       "      <th></th>\n",
       "      <th>libelle_rome</th>\n",
       "      <th>code</th>\n",
       "    </tr>\n",
       "  </thead>\n",
       "  <tbody>\n",
       "    <tr>\n",
       "      <th>0</th>\n",
       "      <td>Opérateur / Opératrice d'épandage</td>\n",
       "      <td>A</td>\n",
       "    </tr>\n",
       "    <tr>\n",
       "      <th>1</th>\n",
       "      <td>Débardeur / Débardeuse</td>\n",
       "      <td>A</td>\n",
       "    </tr>\n",
       "    <tr>\n",
       "      <th>2</th>\n",
       "      <td>Conducteur / Conductrice de machines à vendanger</td>\n",
       "      <td>A</td>\n",
       "    </tr>\n",
       "    <tr>\n",
       "      <th>3</th>\n",
       "      <td>Conducteur / Conductrice d'abatteuses</td>\n",
       "      <td>A</td>\n",
       "    </tr>\n",
       "    <tr>\n",
       "      <th>4</th>\n",
       "      <td>Pilote de machines d'abattage</td>\n",
       "      <td>A</td>\n",
       "    </tr>\n",
       "  </tbody>\n",
       "</table>\n",
       "</div>"
      ],
      "text/plain": [
       "                                       libelle_rome code\n",
       "0                 Opérateur / Opératrice d'épandage    A\n",
       "1                            Débardeur / Débardeuse    A\n",
       "2  Conducteur / Conductrice de machines à vendanger    A\n",
       "3             Conducteur / Conductrice d'abatteuses    A\n",
       "4                     Pilote de machines d'abattage    A"
      ]
     },
     "execution_count": 29,
     "metadata": {},
     "output_type": "execute_result"
    }
   ],
   "source": [
    "# il existe deux variantes pour la codif FAP agrégées on garde la première \n",
    "df.drop(['fap2009_AvecQualif_agreg','code_rome'],inplace=True,axis=1)\n",
    "# on renomme le champ de codage par code pour simplifier \n",
    "df = df.rename(columns={'fap2009_SansQualif_agreg': 'code'})\n",
    "df.head()"
   ]
  },
  {
   "cell_type": "markdown",
   "metadata": {},
   "source": [
    "Le champ que l'on va chercher à classer est le champ 'libelle_rome', on va essayer d'étalonner un algorithme de sorte à retrouver la FAP, ici 'fap2009_SansQualif_agreg'.\n",
    "\n",
    "En effet, on connaît déjà la FAP donc on pourrait se demander quel intérêt à la prédire, l'idée est d'avoir un outil capable de la prédire pour des nouveaux intitulés, non déjà disponibles dans la base.\n",
    "\n",
    "Ici on travaille sur un champ texte, on doit donc d'abord le retravailler pour transformer ce champ en matrice documents termes (où chaque ligne correspond à un intitulé métier décrit dans un ensemble de mots qui combinés peuvent permettre de reconstruire tous les intitulés métiers).\n",
    "\n",
    "Pour vectoriser le texte, on doit d'abord le normaliser : on commence par enlever les accents, harmoniser la casse, remplacer tout ce qui n'est pas une lettre par un espace (cela permet de se débarasser de la ponctuation et des nombres), retirer également les petits mots (moins de 2 lettres) et les mots outils (non discriminants, également appelés stop_words)"
   ]
  },
  {
   "cell_type": "code",
   "execution_count": 30,
   "metadata": {
    "collapsed": false
   },
   "outputs": [
    {
     "data": {
      "text/html": [
       "<div>\n",
       "<table border=\"1\" class=\"dataframe\">\n",
       "  <thead>\n",
       "    <tr style=\"text-align: right;\">\n",
       "      <th></th>\n",
       "      <th>libelle_rome</th>\n",
       "      <th>code</th>\n",
       "      <th>libelle_rome_clean</th>\n",
       "    </tr>\n",
       "  </thead>\n",
       "  <tbody>\n",
       "    <tr>\n",
       "      <th>0</th>\n",
       "      <td>Opérateur / Opératrice d'épandage</td>\n",
       "      <td>A</td>\n",
       "      <td>operateur operatrice epandage</td>\n",
       "    </tr>\n",
       "    <tr>\n",
       "      <th>1</th>\n",
       "      <td>Débardeur / Débardeuse</td>\n",
       "      <td>A</td>\n",
       "      <td>debardeur debardeuse</td>\n",
       "    </tr>\n",
       "    <tr>\n",
       "      <th>2</th>\n",
       "      <td>Conducteur / Conductrice de machines à vendanger</td>\n",
       "      <td>A</td>\n",
       "      <td>conducteur conductrice machines vendanger</td>\n",
       "    </tr>\n",
       "    <tr>\n",
       "      <th>3</th>\n",
       "      <td>Conducteur / Conductrice d'abatteuses</td>\n",
       "      <td>A</td>\n",
       "      <td>conducteur conductrice abatteuses</td>\n",
       "    </tr>\n",
       "    <tr>\n",
       "      <th>4</th>\n",
       "      <td>Pilote de machines d'abattage</td>\n",
       "      <td>A</td>\n",
       "      <td>pilote machines abattage</td>\n",
       "    </tr>\n",
       "  </tbody>\n",
       "</table>\n",
       "</div>"
      ],
      "text/plain": [
       "                                       libelle_rome code  \\\n",
       "0                 Opérateur / Opératrice d'épandage    A   \n",
       "1                            Débardeur / Débardeuse    A   \n",
       "2  Conducteur / Conductrice de machines à vendanger    A   \n",
       "3             Conducteur / Conductrice d'abatteuses    A   \n",
       "4                     Pilote de machines d'abattage    A   \n",
       "\n",
       "                          libelle_rome_clean  \n",
       "0              operateur operatrice epandage  \n",
       "1                       debardeur debardeuse  \n",
       "2  conducteur conductrice machines vendanger  \n",
       "3          conducteur conductrice abatteuses  \n",
       "4                   pilote machines abattage  "
      ]
     },
     "execution_count": 30,
     "metadata": {},
     "output_type": "execute_result"
    }
   ],
   "source": [
    "import unicodedata\n",
    "import re\n",
    "from stop_words import get_stop_words\n",
    "\n",
    "stop_words = get_stop_words('fr')\n",
    "\n",
    "def clean_accent(x):\n",
    "    y= [unicodedata.normalize('NFKD', unicode(word)).encode('ascii', 'ignore') for word in x.split(' ')]\n",
    "    return ' '.join(y)\n",
    "\n",
    "def clean_content(x):\n",
    "    x=x.lower()\n",
    "    x=clean_accent(x)\n",
    "    x=re.sub(\"[^a-z]\", \" \",x)\n",
    "    x=' '.join([z for z in x.split(' ') if len(z)>2 and z not in stop_words])\n",
    "    return x\n",
    "\n",
    "df['libelle_rome_clean']=[clean_content(x) for x in df['libelle_rome']]\n",
    "df.head()  "
   ]
  },
  {
   "cell_type": "markdown",
   "metadata": {},
   "source": [
    "On procède de même sur les intitulés métiers du bon coin, même s'ils ne serviront que dans un second temps (après étalonnage de notre algorithme, on pourra l'appliquer pour coder les métiers des offres du bon coin).\n",
    "\n",
    "Dans le fichier 'lbc_pcs_fap.csv', les colonnes contenant une FAP ne proviennent pas des métadonnées du Bon Coin mais du passage de l'outil SICORE sur ce même corpus, ceci à des fins de comparaisons avec notre approche "
   ]
  },
  {
   "cell_type": "code",
   "execution_count": 25,
   "metadata": {
    "collapsed": false
   },
   "outputs": [
    {
     "data": {
      "text/html": [
       "<div>\n",
       "<table border=\"1\" class=\"dataframe\">\n",
       "  <thead>\n",
       "    <tr style=\"text-align: right;\">\n",
       "      <th></th>\n",
       "      <th>pcs_sicore</th>\n",
       "      <th>X</th>\n",
       "      <th>offre</th>\n",
       "      <th>fonction</th>\n",
       "      <th>offre_clean</th>\n",
       "      <th>sect</th>\n",
       "      <th>siren</th>\n",
       "      <th>fap2009_detaillee</th>\n",
       "      <th>fap2009_inter</th>\n",
       "      <th>fap2009_agreg</th>\n",
       "    </tr>\n",
       "  </thead>\n",
       "  <tbody>\n",
       "    <tr>\n",
       "      <th>1</th>\n",
       "      <td>233b</td>\n",
       "      <td>45399</td>\n",
       "      <td>Peintre industriel (H/F)</td>\n",
       "      <td>Ouvrier/Artisan</td>\n",
       "      <td>industriel</td>\n",
       "      <td>Industrie/Environnement</td>\n",
       "      <td>750017048</td>\n",
       "      <td>L6Z00</td>\n",
       "      <td>L6Z</td>\n",
       "      <td>L</td>\n",
       "    </tr>\n",
       "    <tr>\n",
       "      <th>2</th>\n",
       "      <td>233b</td>\n",
       "      <td>6909</td>\n",
       "      <td>Peintre industriel h/f</td>\n",
       "      <td>Production/Opérations</td>\n",
       "      <td>industriel</td>\n",
       "      <td>Industrie/Environnement</td>\n",
       "      <td>814814968</td>\n",
       "      <td>L6Z00</td>\n",
       "      <td>L6Z</td>\n",
       "      <td>L</td>\n",
       "    </tr>\n",
       "    <tr>\n",
       "      <th>3</th>\n",
       "      <td>233b</td>\n",
       "      <td>41717</td>\n",
       "      <td>Peintre industriel (H/F)</td>\n",
       "      <td>NaN</td>\n",
       "      <td>industriel</td>\n",
       "      <td>Industrie/Environnement</td>\n",
       "      <td>420800757</td>\n",
       "      <td>L6Z00</td>\n",
       "      <td>L6Z</td>\n",
       "      <td>L</td>\n",
       "    </tr>\n",
       "    <tr>\n",
       "      <th>4</th>\n",
       "      <td>233b</td>\n",
       "      <td>25741</td>\n",
       "      <td>Peintre industriel (H/F)</td>\n",
       "      <td>Ouvrier/Artisan</td>\n",
       "      <td>industriel</td>\n",
       "      <td>Services</td>\n",
       "      <td>337080543</td>\n",
       "      <td>L6Z00</td>\n",
       "      <td>L6Z</td>\n",
       "      <td>L</td>\n",
       "    </tr>\n",
       "    <tr>\n",
       "      <th>5</th>\n",
       "      <td>233b</td>\n",
       "      <td>28023</td>\n",
       "      <td>Peintre industriel (H/F)</td>\n",
       "      <td>NaN</td>\n",
       "      <td>industriel</td>\n",
       "      <td>Industrie/Environnement</td>\n",
       "      <td>519215370</td>\n",
       "      <td>L6Z00</td>\n",
       "      <td>L6Z</td>\n",
       "      <td>L</td>\n",
       "    </tr>\n",
       "  </tbody>\n",
       "</table>\n",
       "</div>"
      ],
      "text/plain": [
       "  pcs_sicore      X                     offre               fonction  \\\n",
       "1       233b  45399  Peintre industriel (H/F)        Ouvrier/Artisan   \n",
       "2       233b   6909    Peintre industriel h/f  Production/Opérations   \n",
       "3       233b  41717  Peintre industriel (H/F)                    NaN   \n",
       "4       233b  25741  Peintre industriel (H/F)        Ouvrier/Artisan   \n",
       "5       233b  28023  Peintre industriel (H/F)                    NaN   \n",
       "\n",
       "  offre_clean                     sect      siren fap2009_detaillee  \\\n",
       "1  industriel  Industrie/Environnement  750017048             L6Z00   \n",
       "2  industriel  Industrie/Environnement  814814968             L6Z00   \n",
       "3  industriel  Industrie/Environnement  420800757             L6Z00   \n",
       "4  industriel                 Services  337080543             L6Z00   \n",
       "5  industriel  Industrie/Environnement  519215370             L6Z00   \n",
       "\n",
       "  fap2009_inter fap2009_agreg  \n",
       "1           L6Z             L  \n",
       "2           L6Z             L  \n",
       "3           L6Z             L  \n",
       "4           L6Z             L  \n",
       "5           L6Z             L  "
      ]
     },
     "execution_count": 25,
     "metadata": {},
     "output_type": "execute_result"
    }
   ],
   "source": [
    "lbc=pd.read_csv(r'lbc_pcs_fap.csv',index_col=0)\n",
    "lbc.head()"
   ]
  },
  {
   "cell_type": "markdown",
   "metadata": {},
   "source": [
    "On modifie légèrement notre fonction clean_accent car les offres d'emploi ne sont pas encodées de la même façon"
   ]
  },
  {
   "cell_type": "code",
   "execution_count": 26,
   "metadata": {
    "collapsed": false
   },
   "outputs": [
    {
     "data": {
      "text/html": [
       "<div>\n",
       "<table border=\"1\" class=\"dataframe\">\n",
       "  <thead>\n",
       "    <tr style=\"text-align: right;\">\n",
       "      <th></th>\n",
       "      <th>offre</th>\n",
       "      <th>offre_clean</th>\n",
       "    </tr>\n",
       "  </thead>\n",
       "  <tbody>\n",
       "    <tr>\n",
       "      <th>1</th>\n",
       "      <td>Peintre industriel (H/F)</td>\n",
       "      <td>peintre industriel</td>\n",
       "    </tr>\n",
       "    <tr>\n",
       "      <th>2</th>\n",
       "      <td>Peintre industriel h/f</td>\n",
       "      <td>peintre industriel</td>\n",
       "    </tr>\n",
       "    <tr>\n",
       "      <th>3</th>\n",
       "      <td>Peintre industriel (H/F)</td>\n",
       "      <td>peintre industriel</td>\n",
       "    </tr>\n",
       "    <tr>\n",
       "      <th>4</th>\n",
       "      <td>Peintre industriel (H/F)</td>\n",
       "      <td>peintre industriel</td>\n",
       "    </tr>\n",
       "    <tr>\n",
       "      <th>5</th>\n",
       "      <td>Peintre industriel (H/F)</td>\n",
       "      <td>peintre industriel</td>\n",
       "    </tr>\n",
       "  </tbody>\n",
       "</table>\n",
       "</div>"
      ],
      "text/plain": [
       "                      offre         offre_clean\n",
       "1  Peintre industriel (H/F)  peintre industriel\n",
       "2    Peintre industriel h/f  peintre industriel\n",
       "3  Peintre industriel (H/F)  peintre industriel\n",
       "4  Peintre industriel (H/F)  peintre industriel\n",
       "5  Peintre industriel (H/F)  peintre industriel"
      ]
     },
     "execution_count": 26,
     "metadata": {},
     "output_type": "execute_result"
    }
   ],
   "source": [
    "def clean_accent_bis(x):\n",
    "    y= [unicodedata.normalize('NFKD', unicode(word.decode('utf-8'))).encode('ascii', 'ignore') for word in x.split(' ')]\n",
    "    return ' '.join(y)\n",
    "\n",
    "def clean_content(x):\n",
    "    x=x.lower()\n",
    "    x=clean_accent_bis(x)\n",
    "    x=re.sub(\"[^a-zA-Z]\", \" \",x)\n",
    "    x=' '.join([z for z in x.split(' ') if len(z)>2 and z not in stop_words])\n",
    "    return x\n",
    "\n",
    "lbc['offre_clean']=[clean_content(offre) for offre in lbc['offre']]\n",
    "lbc[['offre','offre_clean']].head()"
   ]
  },
  {
   "cell_type": "markdown",
   "metadata": {},
   "source": [
    "Dans les procédures de machine learning supervisé, il est classique de tester la performance de l'algorithme de classification sur une portion des données non utilisées pour son étalonnage. On sépare donc l'échantillon des métiers Rome en 2 sous échantillons (70% / 30%)"
   ]
  },
  {
   "cell_type": "code",
   "execution_count": 39,
   "metadata": {
    "collapsed": false
   },
   "outputs": [
    {
     "data": {
      "text/plain": [
       "'train'"
      ]
     },
     "metadata": {},
     "output_type": "display_data"
    },
    {
     "data": {
      "text/plain": [
       "Z    3117\n",
       "U     587\n",
       "R     507\n",
       "V     453\n",
       "T     365\n",
       "A     314\n",
       "J     312\n",
       "L     305\n",
       "P     271\n",
       "G     238\n",
       "H     223\n",
       "N     211\n",
       "S     204\n",
       "E     198\n",
       "W     155\n",
       "B     144\n",
       "F     133\n",
       "M     118\n",
       "C      64\n",
       "Q      62\n",
       "D      54\n",
       "Name: code, dtype: int64"
      ]
     },
     "metadata": {},
     "output_type": "display_data"
    },
    {
     "data": {
      "text/plain": [
       "'test'"
      ]
     },
     "metadata": {},
     "output_type": "display_data"
    },
    {
     "data": {
      "text/plain": [
       "Z    1336\n",
       "U     252\n",
       "R     218\n",
       "V     194\n",
       "T     156\n",
       "A     135\n",
       "J     133\n",
       "L     130\n",
       "P     116\n",
       "G     102\n",
       "H      96\n",
       "N      90\n",
       "S      88\n",
       "E      85\n",
       "W      66\n",
       "B      62\n",
       "F      57\n",
       "M      51\n",
       "C      27\n",
       "Q      27\n",
       "D      23\n",
       "Name: code, dtype: int64"
      ]
     },
     "metadata": {},
     "output_type": "display_data"
    }
   ],
   "source": [
    "import numpy as np\n",
    "from sklearn.model_selection import train_test_split\n",
    " \n",
    "indices = np.arange(df.shape[0])\n",
    "data_train, data_test, y_train, y_test, id_train, id_test = train_test_split(df, df['code'], indices, test_size=0.3, stratify=df['code'],random_state = 0)\n",
    "\n",
    "# on peut regarder les proportions de chaque code dans les 2 sous-échantillons (ils sont stratifiés donc normalementl les proportions sont respectées)\n",
    "from IPython.display import display\n",
    "display('train')\n",
    "display(data_train.code.value_counts())\n",
    "display('test')\n",
    "display(data_test.code.value_counts())"
   ]
  },
  {
   "cell_type": "markdown",
   "metadata": {},
   "source": [
    "On peut vectoriser le texte (on extrait le vocabulaire à partir de data_train) et on applique ensuite la vectorisation sur data_test (pour l'évaluation) et sur les offres d'emploi pour la prédiction. "
   ]
  },
  {
   "cell_type": "code",
   "execution_count": 48,
   "metadata": {
    "collapsed": false
   },
   "outputs": [
    {
     "name": "stdout",
     "output_type": "stream",
     "text": [
      "(8035, 7315)\n",
      "(3444, 7315)\n"
     ]
    },
    {
     "data": {
      "text/plain": [
       "array([u' a', u' ab', u' aba', u' ac', u' acc', u' ach', u' acm', u' aco',\n",
       "       u' acq', u' acr', u' act', u' ad', u' adj', u' adm', u' ado',\n",
       "       u' adu', u' ae', u' aer', u' af', u' aff'], \n",
       "      dtype='<U4')"
      ]
     },
     "execution_count": 48,
     "metadata": {},
     "output_type": "execute_result"
    }
   ],
   "source": [
    "from sklearn.feature_extraction.text import TfidfVectorizer \n",
    "vect = TfidfVectorizer(min_df = 3. * 1./data_train.shape[0], #on considère les termes qui apparaissent au moins 3 fois dans le corpus\n",
    "                             max_df = 0.99,  #on ne considère pas ceux qui apparaissent plus de 99% du temps\n",
    "                             encoding = 'utf-8',\n",
    "                             analyzer='char_wb', #on considère pas les mots à proprement parler ici mais les combinaisons de caractères afin de considérer comme un même mot les masculins et féminins de métiers par exemple (ils auront une racine commune)\n",
    "                             ngram_range=(2,4)\n",
    "                             )\n",
    "    \n",
    "X_train = vect.fit_transform(data_train.libelle_rome_clean)\n",
    "print(X_train.shape) #on a 7340 colonnes à notre matrice\n",
    "\n",
    "X_test = vect.transform(data_test.libelle_rome_clean)\n",
    "print(X_test.shape)\n",
    "    \n",
    "X_full = vect.transform(lbc.offre_clean)\n",
    "    \n",
    "feature_names = np.asarray(vect.get_feature_names()) #vocabulaire (colonnes de la matrice documents-termes)\n",
    "feature_names[:20]"
   ]
  },
  {
   "cell_type": "code",
   "execution_count": 51,
   "metadata": {
    "collapsed": false
   },
   "outputs": [
    {
     "name": "stdout",
     "output_type": "stream",
     "text": [
      "  (0, 118)\t0.0564416537745\n",
      "  (0, 1772)\t0.0679978677166\n",
      "  (0, 4879)\t0.051725453616\n",
      "  (0, 4652)\t0.17227065321\n",
      "  (0, 7120)\t0.150564968009\n",
      "  (0, 5179)\t0.13656719883\n",
      "  (0, 7238)\t0.144778467297\n",
      "  (0, 2629)\t0.0487543528677\n",
      "  (0, 6886)\t0.0228889158818\n",
      "  (0, 5500)\t0.0438576674514\n",
      "  (0, 155)\t0.0743703521465\n",
      "  (0, 1793)\t0.0847591155655\n",
      "  (0, 4937)\t0.212263149798\n",
      "  (0, 4657)\t0.221164631021\n",
      "  (0, 7134)\t0.183302104679\n",
      "  (0, 5183)\t0.147647876369\n",
      "  (0, 7247)\t0.185166275074\n",
      "  (0, 2641)\t0.024812163928\n",
      "  (0, 6887)\t0.0249640382633\n",
      "  (0, 160)\t0.0875776327236\n",
      "  (0, 1803)\t0.212263149798\n",
      "  (0, 4938)\t0.224897126728\n",
      "  (0, 4659)\t0.240539617117\n",
      "  (0, 7136)\t0.234302264755\n",
      "  (0, 5188)\t0.196986052799\n",
      "  :\t:\n",
      "  (0, 6040)\t0.17227065321\n",
      "  (0, 924)\t0.0899991169296\n",
      "  (0, 2901)\t0.144327615647\n",
      "  (0, 2463)\t0.0411845090764\n",
      "  (0, 483)\t0.200095053592\n",
      "  (0, 4148)\t0.217872336481\n",
      "  (0, 2564)\t0.189314940201\n",
      "  (0, 6244)\t0.190456004607\n",
      "  (0, 6041)\t0.179122364289\n",
      "  (0, 929)\t0.16677216844\n",
      "  (0, 2902)\t0.083637912622\n",
      "  (0, 6937)\t0.0310532931038\n",
      "  (0, 6086)\t0.0280151164401\n",
      "  (0, 2122)\t0.0288679323155\n",
      "  (0, 2647)\t0.035595073893\n",
      "  (0, 6943)\t0.0355624385059\n",
      "  (0, 6087)\t0.0335543001122\n",
      "  (0, 7249)\t0.0935818550334\n",
      "  (0, 2648)\t0.0356032446609\n",
      "  (0, 6944)\t0.0359508032009\n",
      "  (0, 5619)\t0.024152043458\n",
      "  (0, 2479)\t0.0438771797637\n",
      "  (0, 5620)\t0.0332609379556\n",
      "  (0, 2904)\t0.0952280023035\n",
      "  (0, 2480)\t0.0448245566564\n"
     ]
    }
   ],
   "source": [
    "print(X_train[0]) #c'est un format de matrice sparse donc on ne stocke que les éléments non vides."
   ]
  },
  {
   "cell_type": "markdown",
   "metadata": {},
   "source": [
    "Une fois le texte mis au format numérique, on peut étalonner le classifieur (ici un SVM linéaire) sur l'échantillon train, l'appliquer sur l'échantillon test et évaluer les performances."
   ]
  },
  {
   "cell_type": "code",
   "execution_count": 53,
   "metadata": {
    "collapsed": false
   },
   "outputs": [
    {
     "data": {
      "text/plain": [
       "array([u'U', u'P', u'U', u'Z', u'L', u'H', u'U', u'H', u'J', u'Z'], dtype=object)"
      ]
     },
     "execution_count": 53,
     "metadata": {},
     "output_type": "execute_result"
    }
   ],
   "source": [
    "from sklearn.svm import LinearSVC\n",
    "clf = LinearSVC(loss='squared_hinge', penalty='l2', dual=False, tol=1e-3)\n",
    "\n",
    "clf.fit(X_train, y_train)\n",
    "pred = clf.predict(X_test)\n",
    "pred[:10]"
   ]
  },
  {
   "cell_type": "code",
   "execution_count": 55,
   "metadata": {
    "collapsed": false
   },
   "outputs": [
    {
     "name": "stdout",
     "output_type": "stream",
     "text": [
      "accuracy:   0.790\n",
      "f1:   0.753\n",
      "precision:   0.811\n",
      "recall:   0.713\n",
      "classification report:\n",
      "             precision    recall  f1-score   support\n",
      "\n",
      "          A       0.82      0.73      0.77       135\n",
      "          B       0.80      0.39      0.52        62\n",
      "          C       0.80      0.74      0.77        27\n",
      "          D       0.95      0.87      0.91        23\n",
      "          E       0.75      0.52      0.61        85\n",
      "          F       0.90      0.63      0.74        57\n",
      "          G       0.85      0.75      0.80       102\n",
      "          H       0.83      0.76      0.79        96\n",
      "          J       0.76      0.71      0.73       133\n",
      "          L       0.72      0.69      0.71       130\n",
      "          M       0.78      0.55      0.64        51\n",
      "          N       0.80      0.78      0.79        90\n",
      "          P       0.77      0.59      0.67       116\n",
      "          Q       0.79      0.70      0.75        27\n",
      "          R       0.81      0.86      0.83       218\n",
      "          S       0.84      0.83      0.83        88\n",
      "          T       0.79      0.67      0.72       156\n",
      "          U       0.80      0.79      0.80       252\n",
      "          V       0.75      0.79      0.77       194\n",
      "          W       0.92      0.74      0.82        66\n",
      "          Z       0.78      0.89      0.83      1336\n",
      "\n",
      "avg / total       0.79      0.79      0.79      3444\n",
      "\n",
      "confusion matrix:\n",
      "[[  98    0    0    0    1    0    0    0    1    0    0    0    2    0\n",
      "     2    0    1    0    1    0   29]\n",
      " [   1   24    0    0    0    0    0    4    3    1    0    0    2    0\n",
      "     0    0    0    3    0    0   24]\n",
      " [   0    0   20    0    0    1    0    0    0    0    0    0    0    0\n",
      "     0    0    0    0    0    0    6]\n",
      " [   0    0    0   20    0    0    0    0    0    0    0    0    0    0\n",
      "     0    0    0    1    0    0    2]\n",
      " [   0    0    0    0   44    2    1    2    0    0    0    0    0    0\n",
      "     0    0    0    2    3    0   31]\n",
      " [   0    2    0    1    1   36    0    1    1    0    0    0    0    0\n",
      "     0    0    0    0    0    0   15]\n",
      " [   0    0    0    0    0    0   76    1    2    0    0    0    0    0\n",
      "     2    0    0    2    2    0   17]\n",
      " [   0    0    0    0    1    0    2   73    0    1    0    3    0    0\n",
      "     0    0    1    0    2    0   13]\n",
      " [   0    1    0    0    2    0    0    1   94    2    0    0    1    0\n",
      "     2    0    3    0    0    0   27]\n",
      " [   0    0    0    0    0    0    1    1    0   90    0    1    2    0\n",
      "     2    1    1    4    7    0   20]\n",
      " [   0    0    0    0    0    0    1    0    0    4   28    0    1    0\n",
      "     1    0    0    2    0    0   14]\n",
      " [   0    0    0    0    0    0    0    2    0    0    0   70    0    0\n",
      "     0    0    2    6    5    0    5]\n",
      " [   0    0    0    0    0    0    0    0    3    6    0    0   68    0\n",
      "     3    0    5    2    8    0   21]\n",
      " [   0    0    0    0    0    0    0    0    0    0    0    0    0   19\n",
      "     0    2    0    1    0    0    5]\n",
      " [   0    0    0    0    0    0    0    1    0    1    0    2    0    0\n",
      "   187    3    0    4    2    0   18]\n",
      " [   0    0    0    0    0    0    0    0    2    0    0    0    0    0\n",
      "     3   73    1    0    0    0    9]\n",
      " [   0    0    0    0    0    0    0    1    3    2    0    0    3    0\n",
      "     3    4  104    2    9    1   24]\n",
      " [   1    0    0    0    0    0    1    0    2    1    2    0    2    0\n",
      "     0    0    3  200    2    0   38]\n",
      " [   0    0    0    0    0    0    0    0    0    2    0    3    2    0\n",
      "     1    1    3    5  153    2   22]\n",
      " [   0    0    0    0    0    0    0    0    1    4    0    1    2    0\n",
      "     0    1    1    6    0   49    1]\n",
      " [  19    3    5    0   10    1    7    1   11   11    6    8    3    5\n",
      "    24    2    7    9    9    1 1194]]\n"
     ]
    }
   ],
   "source": [
    "# il existe différents indicateurs de qualité.\n",
    "from sklearn import metrics \n",
    "score = metrics.accuracy_score(y_test, pred)\n",
    "print(\"accuracy:   %0.3f\" % score)\n",
    "f1 = metrics.f1_score(y_test, pred,average='macro') # unweighted mean\n",
    "print(\"f1:   %0.3f\" % f1)\n",
    "precision = metrics.precision_score(y_test, pred,average='macro')\n",
    "print(\"precision:   %0.3f\" % precision)\n",
    "recall = metrics.recall_score(y_test, pred,average='macro')\n",
    "print(\"recall:   %0.3f\" % recall)\n",
    "print(\"classification report:\")\n",
    "print(metrics.classification_report(y_test, pred))\n",
    "print(\"confusion matrix:\")\n",
    "print(metrics.confusion_matrix(y_test, pred))"
   ]
  },
  {
   "cell_type": "markdown",
   "metadata": {},
   "source": [
    "La matrice de confusion n'est pas très lisible ! On va utiliser une fonction spéciale pour la rendre plus lisible"
   ]
  },
  {
   "cell_type": "code",
   "execution_count": 61,
   "metadata": {
    "collapsed": false
   },
   "outputs": [
    {
     "name": "stdout",
     "output_type": "stream",
     "text": [
      "Normalized confusion matrix\n"
     ]
    },
    {
     "data": {
      "image/png": "[encoded data removed]",
      "text/plain": [
       "<matplotlib.figure.Figure at 0x7f685ab00690>"
      ]
     },
     "metadata": {},
     "output_type": "display_data"
    }
   ],
   "source": [
    "import itertools \n",
    "import matplotlib.pyplot as plt \n",
    "\n",
    "class_names = sorted(df.code.unique())\n",
    "\n",
    "def plot_confusion_matrix(cm, classes,\n",
    "                          normalize=False,\n",
    "                          title='Confusion matrix',\n",
    "                          cmap=plt.cm.Blues):\n",
    "    \"\"\"\n",
    "    This function prints and plots the confusion matrix.\n",
    "    Normalization can be applied by setting `normalize=True`.\n",
    "    \"\"\"\n",
    "    if normalize:\n",
    "        cm = cm.astype('float') / cm.sum(axis=1)[:, np.newaxis]\n",
    "        print(\"Normalized confusion matrix\")\n",
    "    else:\n",
    "        print('Confusion matrix, without normalization')\n",
    "    \n",
    "    plt.imshow(cm, interpolation='nearest', cmap=cmap)\n",
    "    plt.title(title)\n",
    "    plt.colorbar()\n",
    "    tick_marks = np.arange(len(classes))\n",
    "    plt.xticks(tick_marks, classes, rotation=45)\n",
    "    plt.yticks(tick_marks, classes)\n",
    "\n",
    "    thresh = 0.5#cm.max() / 2.\n",
    "    for i, j in itertools.product(range(cm.shape[0]), range(cm.shape[1])):\n",
    "        if cm[i, j] >  thresh :\n",
    "            plt.text(j, i, \"%.2f\" % cm[i, j],\n",
    "                 horizontalalignment=\"center\",\n",
    "                 color=\"black\")\n",
    "\n",
    "    plt.tight_layout()\n",
    "    plt.ylabel('True label')\n",
    "    plt.xlabel('Predicted label')\n",
    "\n",
    "# Compute confusion matrix\n",
    "cnf_matrix = metrics.confusion_matrix(y_test, pred)\n",
    "#np.set_printoptions(precision=2)\n",
    "\n",
    "# Plot normalized confusion matrix\n",
    "plt.figure(figsize=(10,10))\n",
    "plot_confusion_matrix(cnf_matrix, classes=class_names, normalize=True, title='Normalized confusion matrix')\n",
    "\n",
    "plt.show()"
   ]
  },
  {
   "cell_type": "markdown",
   "metadata": {},
   "source": [
    "Une fois que l'on est satisfait de notre classifieur, on peut prédire les codes pour les offres du bon coin. Ici on n'a évidemment pas de moyens autres que manuels de savoir si on a une bonne performance puisque ces offres n'ont pas été codées, toutefois on a testé une codification parallèle par Sicore, donc a minima on peut comparer les 2 dans les cas où Sicore a réussi à coder."
   ]
  },
  {
   "cell_type": "code",
   "execution_count": 62,
   "metadata": {
    "collapsed": false
   },
   "outputs": [
    {
     "name": "stdout",
     "output_type": "stream",
     "text": [
      "accuracy:   0.453\n",
      "f1:   0.361\n",
      "precision:   0.529\n",
      "recall:   0.338\n",
      "classification report:\n",
      "             precision    recall  f1-score   support\n",
      "\n",
      "          A       0.89      0.72      0.80       479\n",
      "          B       0.42      0.06      0.10      2866\n",
      "          C       0.64      0.07      0.12       240\n",
      "          D       0.24      0.03      0.05      1046\n",
      "          E       0.11      0.01      0.02      1077\n",
      "          F       0.03      0.02      0.02       167\n",
      "          G       0.72      0.22      0.33      2821\n",
      "          H       0.30      0.74      0.42        97\n",
      "          J       0.96      0.43      0.59      3886\n",
      "          K       0.00      0.00      0.00        61\n",
      "          L       0.70      0.21      0.32       976\n",
      "          M       0.76      0.12      0.21       231\n",
      "          N       0.04      0.07      0.05        15\n",
      "          P       0.04      0.17      0.07        48\n",
      "          Q       0.78      0.05      0.09       141\n",
      "          R       0.95      0.77      0.85      5082\n",
      "          S       0.93      0.80      0.86      2006\n",
      "          T       0.94      0.68      0.79      2415\n",
      "          U       0.58      0.55      0.56       167\n",
      "          V       0.85      0.92      0.88       678\n",
      "          W       0.78      0.81      0.79       185\n",
      "          Z       0.00      0.00      0.00         0\n",
      "\n",
      "avg / total       0.76      0.45      0.54     24684\n",
      "\n"
     ]
    }
   ],
   "source": [
    "pred_lbc = clf.predict(X_full)\n",
    "sicore_fap = lbc.fap2009_agreg\n",
    "\n",
    "score = metrics.accuracy_score(sicore_fap, pred_lbc)\n",
    "print(\"accuracy:   %0.3f\" % score)\n",
    "f1 = metrics.f1_score(sicore_fap, pred_lbc,average='macro') # unweighted mean\n",
    "print(\"f1:   %0.3f\" % f1)\n",
    "precision = metrics.precision_score(sicore_fap, pred_lbc,average='macro')\n",
    "print(\"precision:   %0.3f\" % precision)\n",
    "recall = metrics.recall_score(sicore_fap, pred_lbc,average='macro')\n",
    "print(\"recall:   %0.3f\" % recall)\n",
    "print(\"classification report:\")\n",
    "print(metrics.classification_report(sicore_fap, pred_lbc))"
   ]
  }
 ],
 "metadata": {
  "anaconda-cloud": {},
  "kernelspec": {
   "display_name": "Python 2",
   "language": "python",
   "name": "python2"
  },
  "language_info": {
   "codemirror_mode": {
    "name": "ipython",
    "version": 2
   },
   "file_extension": ".py",
   "mimetype": "text/x-python",
   "name": "python",
   "nbconvert_exporter": "python",
   "pygments_lexer": "ipython2",
   "version": "2.7.13"
  }
 },
 "nbformat": 4,
 "nbformat_minor": 1
}
